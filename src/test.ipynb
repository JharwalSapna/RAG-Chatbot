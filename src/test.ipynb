{
 "cells": [
  {
   "cell_type": "code",
   "execution_count": 68,
   "metadata": {},
   "outputs": [],
   "source": [
    "import streamlit as st\n",
    "from langchain.prompts import ChatPromptTemplate, MessagesPlaceholder\n",
    "from langchain.schema import HumanMessage, AIMessage, SystemMessage\n",
    "from langchain_openai.chat_models import ChatOpenAI\n",
    "from langchain_community.vectorstores import Chroma\n",
    "from langchain_community.embeddings import OpenAIEmbeddings"
   ]
  },
  {
   "cell_type": "code",
   "execution_count": 69,
   "metadata": {},
   "outputs": [],
   "source": [
    "from langchain.document_loaders import WebBaseLoader\n",
    "from langchain.text_splitter import RecursiveCharacterTextSplitter"
   ]
  },
  {
   "cell_type": "code",
   "execution_count": 90,
   "metadata": {},
   "outputs": [],
   "source": [
    "from langchain.chains import create_retrieval_chain, create_history_aware_retriever\n",
    "from langchain.chains.combine_documents import create_stuff_documents_chain"
   ]
  },
  {
   "cell_type": "code",
   "execution_count": 71,
   "metadata": {},
   "outputs": [],
   "source": [
    "llm = ChatOpenAI(model='gpt-4')"
   ]
  },
  {
   "cell_type": "code",
   "execution_count": 72,
   "metadata": {},
   "outputs": [],
   "source": [
    "doc = WebBaseLoader(\"https://python.langchain.com/docs/get_started/quickstart\")"
   ]
  },
  {
   "cell_type": "code",
   "execution_count": 73,
   "metadata": {},
   "outputs": [],
   "source": [
    "docs = doc.load()"
   ]
  },
  {
   "cell_type": "code",
   "execution_count": 74,
   "metadata": {},
   "outputs": [
    {
     "data": {
      "text/plain": [
       "[Document(page_content='\\n\\n\\n\\n\\nQuickstart | 🦜️🔗 Langchain\\n\\n\\n\\n\\n\\n\\n\\nSkip to main content🦜️🔗 LangChainDocsUse casesIntegrationsGuidesAPIMoreVersioningChangelogDeveloper\\'s guideTemplatesCookbooksTutorialsYouTube🦜️🔗LangSmithLangSmith DocsLangServe GitHubTemplates GitHubTemplates HubLangChain HubJS/TS DocsChatSearchGet startedIntroductionInstallationQuickstartSecurityLangChain Expression LanguageGet startedWhy use LCELInterfaceStreamingHow toCookbookLangChain Expression Language (LCEL)ModulesModel I/ORetrievalAgentsChainsMoreLangServeLangSmithLangGraphGet startedQuickstartOn this pageQuickstartIn this quickstart we\\'ll show you how to:Get setup with LangChain, LangSmith and LangServeUse the most basic and common components of LangChain: prompt templates, models, and output parsersUse LangChain Expression Language, the protocol that LangChain is built on and which facilitates component chainingBuild a simple application with LangChainTrace your application with LangSmithServe your application with LangServeThat\\'s a fair amount to cover! Let\\'s dive in.Setup\\u200bJupyter Notebook\\u200bThis guide (and most of the other guides in the documentation) use Jupyter notebooks and assume the reader is as well. Jupyter notebooks are perfect for learning how to work with LLM systems because often times things can go wrong (unexpected output, API down, etc) and going through guides in an interactive environment is a great way to better understand them.You do not NEED to go through the guide in a Jupyter Notebook, but it is recommended. See here for instructions on how to install.Installation\\u200bTo install LangChain run:PipCondapip install langchainconda install langchain -c conda-forgeFor more details, see our Installation guide.LangSmith\\u200bMany of the applications you build with LangChain will contain multiple steps with multiple invocations of LLM calls.\\nAs these applications get more and more complex, it becomes crucial to be able to inspect what exactly is going on inside your chain or agent.\\nThe best way to do this is with LangSmith.Note that LangSmith is not needed, but it is helpful.\\nIf you do want to use LangSmith, after you sign up at the link above, make sure to set your environment variables to start logging traces:export LANGCHAIN_TRACING_V2=\"true\"export LANGCHAIN_API_KEY=\"...\"Building with LangChain\\u200bLangChain enables building application that connect external sources of data and computation to LLMs.\\nIn this quickstart, we will walk through a few different ways of doing that.\\nWe will start with a simple LLM chain, which just relies on information in the prompt template to respond.\\nNext, we will build a retrieval chain, which fetches data from a separate database and passes that into the prompt template.\\nWe will then add in chat history, to create a conversation retrieval chain. This allows you interact in a chat manner with this LLM, so it remembers previous questions.\\nFinally, we will build an agent - which utilizes an LLM to determine whether or not it needs to fetch data to answer questions.\\nWe will cover these at a high level, but there are lot of details to all of these!\\nWe will link to relevant docs.LLM Chain\\u200bFor this getting started guide, we will provide two options: using OpenAI (a popular model available via API) or using a local open source model.OpenAILocalFirst we\\'ll need to import the LangChain x OpenAI integration package.pip install langchain-openaiAccessing the API requires an API key, which you can get by creating an account and heading here. Once we have a key we\\'ll want to set it as an environment variable by running:export OPENAI_API_KEY=\"...\"We can then initialize the model:from langchain_openai import ChatOpenAIllm = ChatOpenAI()If you\\'d prefer not to set an environment variable you can pass the key in directly via the openai_api_key named parameter when initiating the OpenAI LLM class:from langchain_openai import ChatOpenAIllm = ChatOpenAI(openai_api_key=\"...\")Ollama allows you to run open-source large language models, such as Llama 2, locally.First, follow these instructions to set up and run a local Ollama instance:DownloadFetch a model via ollama pull llama2Then, make sure the Ollama server is running. After that, you can do:from langchain_community.llms import Ollamallm = Ollama(model=\"llama2\")Once you\\'ve installed and initialized the LLM of your choice, we can try using it!\\nLet\\'s ask it what LangSmith is - this is something that wasn\\'t present in the training data so it shouldn\\'t have a very good response.llm.invoke(\"how can langsmith help with testing?\")We can also guide it\\'s response with a prompt template.\\nPrompt templates are used to convert raw user input to a better input to the LLM.from langchain_core.prompts import ChatPromptTemplateprompt = ChatPromptTemplate.from_messages([    (\"system\", \"You are world class technical documentation writer.\"),    (\"user\", \"{input}\")])We can now combine these into a simple LLM chain:chain = prompt | llm We can now invoke it and ask the same question. It still won\\'t know the answer, but it should respond in a more proper tone for a technical writer!chain.invoke({\"input\": \"how can langsmith help with testing?\"})The output of a ChatModel (and therefore, of this chain) is a message. However, it\\'s often much more convenient to work with strings. Let\\'s add a simple output parser to convert the chat message to a string.from langchain_core.output_parsers import StrOutputParseroutput_parser = StrOutputParser()We can now add this to the previous chain:chain = prompt | llm | output_parserWe can now invoke it and ask the same question. The answer will now be a string (rather than a ChatMessage).chain.invoke({\"input\": \"how can langsmith help with testing?\"})Diving Deeper\\u200bWe\\'ve now successfully set up a basic LLM chain. We only touched on the basics of prompts, models, and output parsers - for a deeper dive into everything mentioned here, see this section of documentation.Retrieval Chain\\u200bIn order to properly answer the original question (\"how can langsmith help with testing?\"), we need to provide additional context to the LLM.\\nWe can do this via retrieval.\\nRetrieval is useful when you have too much data to pass to the LLM directly.\\nYou can then use a retriever to fetch only the most relevant pieces and pass those in.In this process, we will look up relevant documents from a Retriever and then pass them into the prompt.\\nA Retriever can be backed by anything - a SQL table, the internet, etc - but in this instance we will populate a vector store and use that as a retriever. For more information on vectorstores, see this documentation.First, we need to load the data that we want to index. In order to do this, we will use the WebBaseLoader. This requires installing BeautifulSoup:pip install beautifulsoup4After that, we can import and use WebBaseLoader.from langchain_community.document_loaders import WebBaseLoaderloader = WebBaseLoader(\"https://docs.smith.langchain.com/overview\")docs = loader.load()Next, we need to index it into a vectorstore. This requires a few components, namely an embedding model and a vectorstore.For embedding models, we once again provide examples for accessing via OpenAI or via local models.OpenAILocalMake sure you have the `langchain_openai` package installed an the appropriate environment variables set (these are the same as needed for the LLM).from langchain_openai import OpenAIEmbeddingsembeddings = OpenAIEmbeddings()Make sure you have Ollama running (same set up as with the LLM).from langchain_community.embeddings import OllamaEmbeddingsembeddings = OllamaEmbeddings()Now, we can use this embedding model to ingest documents into a vectorstore.\\nWe will use a simple local vectorstore, FAISS, for simplicity\\'s sake.First we need to install the required packages for that:pip install faiss-cpuThen we can build our index:from langchain_community.vectorstores import FAISSfrom langchain.text_splitter import RecursiveCharacterTextSplittertext_splitter = RecursiveCharacterTextSplitter()documents = text_splitter.split_documents(docs)vector = FAISS.from_documents(documents, embeddings)Now that we have this data indexed in a vectorstore, we will create a retrieval chain.\\nThis chain will take an incoming question, look up relevant documents, then pass those documents along with the original question into an LLM and ask it to answer the original question.First, let\\'s set up the chain that takes a question and the retrieved documents and generates an answer.from langchain.chains.combine_documents import create_stuff_documents_chainprompt = ChatPromptTemplate.from_template(\"\"\"Answer the following question based only on the provided context:<context>{context}</context>Question: {input}\"\"\")document_chain = create_stuff_documents_chain(llm, prompt)If we wanted to, we could run this ourselves by passing in documents directly:from langchain_core.documents import Documentdocument_chain.invoke({    \"input\": \"how can langsmith help with testing?\",    \"context\": [Document(page_content=\"langsmith can let you visualize test results\")]})However, we want the documents to first come from the retriever we just set up.\\nThat way, for a given question we can use the retriever to dynamically select the most relevant documents and pass those in.from langchain.chains import create_retrieval_chainretriever = vector.as_retriever()retrieval_chain = create_retrieval_chain(retriever, document_chain)We can now invoke this chain. This returns a dictionary - the response from the LLM is in the answer keyresponse = retrieval_chain.invoke({\"input\": \"how can langsmith help with testing?\"})print(response[\"answer\"])# LangSmith offers several features that can help with testing:...This answer should be much more accurate!Diving Deeper\\u200bWe\\'ve now successfully set up a basic retrieval chain. We only touched on the basics of retrieval - for a deeper dive into everything mentioned here, see this section of documentation.Conversation Retrieval Chain\\u200bThe chain we\\'ve created so far can only answer single questions. One of the main types of LLM applications that people are building are chat bots. So how do we turn this chain into one that can answer follow up questions?We can still use the create_retrieval_chain function, but we need to change two things:The retrieval method should now not just work on the most recent input, but rather should take the whole history into account.The final LLM chain should likewise take the whole history into accountUpdating RetrievalIn order to update retrieval, we will create a new chain. This chain will take in the most recent input (input) and the conversation history (chat_history) and use an LLM to generate a search query.from langchain.chains import create_history_aware_retrieverfrom langchain_core.prompts import MessagesPlaceholder# First we need a prompt that we can pass into an LLM to generate this search queryprompt = ChatPromptTemplate.from_messages([    MessagesPlaceholder(variable_name=\"chat_history\"),    (\"user\", \"{input}\"),    (\"user\", \"Given the above conversation, generate a search query to look up in order to get information relevant to the conversation\")])retriever_chain = create_history_aware_retriever(llm, retriever, prompt)We can test this out by passing in an instance where the user is asking a follow up question.from langchain_core.messages import HumanMessage, AIMessagechat_history = [HumanMessage(content=\"Can LangSmith help test my LLM applications?\"), AIMessage(content=\"Yes!\")]retriever_chain.invoke({    \"chat_history\": chat_history,    \"input\": \"Tell me how\"})You should see that this returns documents about testing in LangSmith. This is because the LLM generated a new query, combining the chat history with the follow up question.Now that we have this new retriever, we can create a new chain to continue the conversation with these retrieved documents in mind.prompt = ChatPromptTemplate.from_messages([    (\"system\", \"Answer the user\\'s questions based on the below context:\\\\n\\\\n{context}\"),    MessagesPlaceholder(variable_name=\"chat_history\"),    (\"user\", \"{input}\"),])document_chain = create_stuff_documents_chain(llm, prompt)retrieval_chain = create_retrieval_chain(retriever_chain, document_chain)We can now test this out end-to-end:chat_history = [HumanMessage(content=\"Can LangSmith help test my LLM applications?\"), AIMessage(content=\"Yes!\")]retrieval_chain.invoke({    \"chat_history\": chat_history,    \"input\": \"Tell me how\"})We can see that this gives a coherent answer - we\\'ve successfully turned our retrieval chain into a chatbot!Agent\\u200bWe\\'ve so far create examples of chains - where each step is known ahead of time.\\nThe final thing we will create is an agent - where the LLM decides what steps to take.NOTE: for this example we will only show how to create an agent using OpenAI models, as local models are not reliable enough yet.One of the first things to do when building an agent is to decide what tools it should have access to.\\nFor this example, we will give the agent access two tools:The retriever we just created. This will let it easily answer questions about LangSmithA search tool. This will let it easily answer questions that require up to date information.First, let\\'s set up a tool for the retriever we just created:from langchain.tools.retriever import create_retriever_toolretriever_tool = create_retriever_tool(    retriever,    \"langsmith_search\",    \"Search for information about LangSmith. For any questions about LangSmith, you must use this tool!\",)The search tool that we will use is Tavily. This will require an API key (they have generous free tier). After creating it on their platform, you need to set it as an environment variable:export TAVILY_API_KEY=...If you do not want to set up an API key, you can skip creating this tool.from langchain_community.tools.tavily_search import TavilySearchResultssearch = TavilySearchResults()We can now create a list of the tools we want to work with:tools = [retriever_tool, search]Now that we have the tools, we can create an agent to use them. We will go over this pretty quickly - for a deeper dive into what exactly is going on, check out the Agent\\'s Getting Started documentationInstall langchain hub firstpip install langchainhubNow we can use it to get a predefined promptfrom langchain_openai import ChatOpenAIfrom langchain import hubfrom langchain.agents import create_openai_functions_agentfrom langchain.agents import AgentExecutor# Get the prompt to use - you can modify this!prompt = hub.pull(\"hwchase17/openai-functions-agent\")llm = ChatOpenAI(model=\"gpt-3.5-turbo\", temperature=0)agent = create_openai_functions_agent(llm, tools, prompt)agent_executor = AgentExecutor(agent=agent, tools=tools, verbose=True)We can now invoke the agent and see how it responds! We can ask it questions about LangSmith:agent_executor.invoke({\"input\": \"how can langsmith help with testing?\"})We can ask it about the weather:agent_executor.invoke({\"input\": \"what is the weather in SF?\"})We can have conversations with it:chat_history = [HumanMessage(content=\"Can LangSmith help test my LLM applications?\"), AIMessage(content=\"Yes!\")]agent_executor.invoke({    \"chat_history\": chat_history,    \"input\": \"Tell me how\"})Diving Deeper\\u200bWe\\'ve now successfully set up a basic agent. We only touched on the basics of agents - for a deeper dive into everything mentioned here, see this section of documentation.Serving with LangServe\\u200bNow that we\\'ve built an application, we need to serve it. That\\'s where LangServe comes in.\\nLangServe helps developers deploy LangChain chains as a REST API. You do not need to use LangServe to use LangChain, but in this guide we\\'ll show how you can deploy your app with LangServe.While the first part of this guide was intended to be run in a Jupyter Notebook, we will now move out of that. We will be creating a Python file and then interacting with it from the command line.Install with:pip install \"langserve[all]\"Server\\u200bTo create a server for our application we\\'ll make a serve.py file. This will contain our logic for serving our application. It consists of three things:The definition of our chain that we just built aboveOur FastAPI appA definition of a route from which to serve the chain, which is done with langserve.add_routes#!/usr/bin/env pythonfrom typing import Listfrom fastapi import FastAPIfrom langchain_core.prompts import ChatPromptTemplatefrom langchain_openai import ChatOpenAIfrom langchain_community.document_loaders import WebBaseLoaderfrom langchain_openai import OpenAIEmbeddingsfrom langchain_community.vectorstores import FAISSfrom langchain.text_splitter import RecursiveCharacterTextSplitterfrom langchain.tools.retriever import create_retriever_toolfrom langchain_community.tools.tavily_search import TavilySearchResultsfrom langchain_openai import ChatOpenAIfrom langchain import hubfrom langchain.agents import create_openai_functions_agentfrom langchain.agents import AgentExecutorfrom langchain.pydantic_v1 import BaseModel, Fieldfrom langchain_core.messages import BaseMessagefrom langserve import add_routes# 1. Load Retrieverloader = WebBaseLoader(\"https://docs.smith.langchain.com/overview\")docs = loader.load()text_splitter = RecursiveCharacterTextSplitter()documents = text_splitter.split_documents(docs)embeddings = OpenAIEmbeddings()vector = FAISS.from_documents(documents, embeddings)retriever = vector.as_retriever()# 2. Create Toolsretriever_tool = create_retriever_tool(    retriever,    \"langsmith_search\",    \"Search for information about LangSmith. For any questions about LangSmith, you must use this tool!\",)search = TavilySearchResults()tools = [retriever_tool, search]# 3. Create Agentprompt = hub.pull(\"hwchase17/openai-functions-agent\")llm = ChatOpenAI(model=\"gpt-3.5-turbo\", temperature=0)agent = create_openai_functions_agent(llm, tools, prompt)agent_executor = AgentExecutor(agent=agent, tools=tools, verbose=True)# 4. App definitionapp = FastAPI(  title=\"LangChain Server\",  version=\"1.0\",  description=\"A simple API server using LangChain\\'s Runnable interfaces\",)# 5. Adding chain route# We need to add these input/output schemas because the current AgentExecutor# is lacking in schemas.class Input(BaseModel):    input: str    chat_history: List[BaseMessage] = Field(        ...,        extra={\"widget\": {\"type\": \"chat\", \"input\": \"location\"}},    )class Output(BaseModel):    output: stradd_routes(    app,    agent_executor.with_types(input_type=Input, output_type=Output),    path=\"/agent\",)if __name__ == \"__main__\":    import uvicorn    uvicorn.run(app, host=\"localhost\", port=8000)And that\\'s it! If we execute this file:python serve.pywe should see our chain being served at localhost:8000.Playground\\u200bEvery LangServe service comes with a simple built-in UI for configuring and invoking the application with streaming output and visibility into intermediate steps.\\nHead to http://localhost:8000/agent/playground/ to try it out! Pass in the same question as before - \"how can langsmith help with testing?\" - and it should respond same as before.Client\\u200bNow let\\'s set up a client for programmatically interacting with our service. We can easily do this with the [langserve.RemoteRunnable](/docs/langserve#client).\\nUsing this, we can interact with the served chain as if it were running client-side.from langserve import RemoteRunnableremote_chain = RemoteRunnable(\"http://localhost:8000/agent/\")remote_chain.invoke({    \"input\": \"how can langsmith help with testing?\",    \"chat_history\": []  # Providing an empty list as this is the first call})To learn more about the many other features of LangServe head here.Next steps\\u200bWe\\'ve touched on how to build an application with LangChain, how to trace it with LangSmith, and how to serve it with LangServe.\\nThere are a lot more features in all three of these than we can cover here.\\nTo continue on your journey, we recommend you read the following (in order):All of these features are backed by LangChain Expression Language (LCEL) - a way to chain these components together. Check out that documentation to better understand how to create custom chains.Model IO covers more details of prompts, LLMs, and output parsers.Retrieval covers more details of everything related to retrievalAgents covers details of everything related to agentsExplore common end-to-end use cases and template applicationsRead up on LangSmith, the platform for debugging, testing, monitoring and moreLearn more about serving your applications with LangServePreviousInstallationNextSecuritySetupJupyter NotebookInstallationLangSmithBuilding with LangChainLLM ChainDiving DeeperRetrieval ChainDiving DeeperConversation Retrieval ChainAgentDiving DeeperServing with LangServeServerPlaygroundClientNext stepsCommunityDiscordTwitterGitHubPythonJS/TSMoreHomepageBlogYouTubeCopyright © 2024 LangChain, Inc.\\n\\n\\n\\n', metadata={'source': 'https://python.langchain.com/docs/get_started/quickstart', 'title': 'Quickstart | 🦜️🔗 Langchain', 'description': \"In this quickstart we'll show you how to:\", 'language': 'en'})]"
      ]
     },
     "execution_count": 74,
     "metadata": {},
     "output_type": "execute_result"
    }
   ],
   "source": [
    "docs"
   ]
  },
  {
   "cell_type": "code",
   "execution_count": 75,
   "metadata": {},
   "outputs": [],
   "source": [
    "text_split = RecursiveCharacterTextSplitter()\n",
    "\n",
    "docs_chunk = text_split.split_documents(docs)\n",
    "\n",
    "vector_store = Chroma.from_documents(docs_chunk, OpenAIEmbeddings())\n",
    "\n"
   ]
  },
  {
   "cell_type": "code",
   "execution_count": 76,
   "metadata": {},
   "outputs": [
    {
     "data": {
      "text/plain": [
       "<langchain_community.vectorstores.chroma.Chroma at 0x17df5a690>"
      ]
     },
     "execution_count": 76,
     "metadata": {},
     "output_type": "execute_result"
    }
   ],
   "source": [
    "vector_store"
   ]
  },
  {
   "cell_type": "code",
   "execution_count": 85,
   "metadata": {},
   "outputs": [],
   "source": [
    "retriever = vector_store.as_retriever()"
   ]
  },
  {
   "cell_type": "code",
   "execution_count": 86,
   "metadata": {},
   "outputs": [],
   "source": [
    "prompt = ChatPromptTemplate.from_messages(\n",
    "    [SystemMessage(content=\"You are a helpful chatbot. Given the below conversation, generate a search query to look up in order to get information relevant to the conversation\"),\n",
    "    MessagesPlaceholder(variable_name='chat_history'),\n",
    "    (\"user\", \"{input}\")]\n",
    ")"
   ]
  },
  {
   "cell_type": "code",
   "execution_count": 87,
   "metadata": {},
   "outputs": [],
   "source": [
    "retriever_chain = create_history_aware_retriever(llm, retriever, prompt)"
   ]
  },
  {
   "cell_type": "code",
   "execution_count": 84,
   "metadata": {},
   "outputs": [
    {
     "data": {
      "text/plain": [
       "[Document(page_content='Skip to main content🦜️🔗 LangChainDocsUse casesIntegrationsGuidesAPIMoreVersioningChangelogDeveloper\\'s guideTemplatesCookbooksTutorialsYouTube🦜️🔗LangSmithLangSmith DocsLangServe GitHubTemplates GitHubTemplates HubLangChain HubJS/TS DocsChatSearchGet startedIntroductionInstallationQuickstartSecurityLangChain Expression LanguageGet startedWhy use LCELInterfaceStreamingHow toCookbookLangChain Expression Language (LCEL)ModulesModel I/ORetrievalAgentsChainsMoreLangServeLangSmithLangGraphGet startedQuickstartOn this pageQuickstartIn this quickstart we\\'ll show you how to:Get setup with LangChain, LangSmith and LangServeUse the most basic and common components of LangChain: prompt templates, models, and output parsersUse LangChain Expression Language, the protocol that LangChain is built on and which facilitates component chainingBuild a simple application with LangChainTrace your application with LangSmithServe your application with LangServeThat\\'s a fair amount to cover! Let\\'s dive in.Setup\\u200bJupyter Notebook\\u200bThis guide (and most of the other guides in the documentation) use Jupyter notebooks and assume the reader is as well. Jupyter notebooks are perfect for learning how to work with LLM systems because often times things can go wrong (unexpected output, API down, etc) and going through guides in an interactive environment is a great way to better understand them.You do not NEED to go through the guide in a Jupyter Notebook, but it is recommended. See here for instructions on how to install.Installation\\u200bTo install LangChain run:PipCondapip install langchainconda install langchain -c conda-forgeFor more details, see our Installation guide.LangSmith\\u200bMany of the applications you build with LangChain will contain multiple steps with multiple invocations of LLM calls.\\nAs these applications get more and more complex, it becomes crucial to be able to inspect what exactly is going on inside your chain or agent.\\nThe best way to do this is with LangSmith.Note that LangSmith is not needed, but it is helpful.\\nIf you do want to use LangSmith, after you sign up at the link above, make sure to set your environment variables to start logging traces:export LANGCHAIN_TRACING_V2=\"true\"export LANGCHAIN_API_KEY=\"...\"Building with LangChain\\u200bLangChain enables building application that connect external sources of data and computation to LLMs.\\nIn this quickstart, we will walk through a few different ways of doing that.\\nWe will start with a simple LLM chain, which just relies on information in the prompt template to respond.\\nNext, we will build a retrieval chain, which fetches data from a separate database and passes that into the prompt template.\\nWe will then add in chat history, to create a conversation retrieval chain. This allows you interact in a chat manner with this LLM, so it remembers previous questions.\\nFinally, we will build an agent - which utilizes an LLM to determine whether or not it needs to fetch data to answer questions.\\nWe will cover these at a high level, but there are lot of details to all of these!', metadata={'description': \"In this quickstart we'll show you how to:\", 'language': 'en', 'source': 'https://python.langchain.com/docs/get_started/quickstart', 'title': 'Quickstart | 🦜️🔗 Langchain'}),\n",
       " Document(page_content='We will cover these at a high level, but there are lot of details to all of these!\\nWe will link to relevant docs.LLM Chain\\u200bFor this getting started guide, we will provide two options: using OpenAI (a popular model available via API) or using a local open source model.OpenAILocalFirst we\\'ll need to import the LangChain x OpenAI integration package.pip install langchain-openaiAccessing the API requires an API key, which you can get by creating an account and heading here. Once we have a key we\\'ll want to set it as an environment variable by running:export OPENAI_API_KEY=\"...\"We can then initialize the model:from langchain_openai import ChatOpenAIllm = ChatOpenAI()If you\\'d prefer not to set an environment variable you can pass the key in directly via the openai_api_key named parameter when initiating the OpenAI LLM class:from langchain_openai import ChatOpenAIllm = ChatOpenAI(openai_api_key=\"...\")Ollama allows you to run open-source large language models, such as Llama 2, locally.First, follow these instructions to set up and run a local Ollama instance:DownloadFetch a model via ollama pull llama2Then, make sure the Ollama server is running. After that, you can do:from langchain_community.llms import Ollamallm = Ollama(model=\"llama2\")Once you\\'ve installed and initialized the LLM of your choice, we can try using it!\\nLet\\'s ask it what LangSmith is - this is something that wasn\\'t present in the training data so it shouldn\\'t have a very good response.llm.invoke(\"how can langsmith help with testing?\")We can also guide it\\'s response with a prompt template.\\nPrompt templates are used to convert raw user input to a better input to the LLM.from langchain_core.prompts import ChatPromptTemplateprompt = ChatPromptTemplate.from_messages([    (\"system\", \"You are world class technical documentation writer.\"),    (\"user\", \"{input}\")])We can now combine these into a simple LLM chain:chain = prompt | llm We can now invoke it and ask the same question. It still won\\'t know the answer, but it should respond in a more proper tone for a technical writer!chain.invoke({\"input\": \"how can langsmith help with testing?\"})The output of a ChatModel (and therefore, of this chain) is a message. However, it\\'s often much more convenient to work with strings. Let\\'s add a simple output parser to convert the chat message to a string.from langchain_core.output_parsers import StrOutputParseroutput_parser = StrOutputParser()We can now add this to the previous chain:chain = prompt | llm | output_parserWe can now invoke it and ask the same question. The answer will now be a string (rather than a ChatMessage).chain.invoke({\"input\": \"how can langsmith help with testing?\"})Diving Deeper\\u200bWe\\'ve now successfully set up a basic LLM chain. We only touched on the basics of prompts, models, and output parsers - for a deeper dive into everything mentioned here, see this section of documentation.Retrieval Chain\\u200bIn order to properly answer the original question (\"how can langsmith help with testing?\"), we need to provide additional context to the LLM.\\nWe can do this via retrieval.\\nRetrieval is useful when you have too much data to pass to the LLM directly.\\nYou can then use a retriever to fetch only the most relevant pieces and pass those in.In this process, we will look up relevant documents from a Retriever and then pass them into the prompt.', metadata={'description': \"In this quickstart we'll show you how to:\", 'language': 'en', 'source': 'https://python.langchain.com/docs/get_started/quickstart', 'title': 'Quickstart | 🦜️🔗 Langchain'}),\n",
       " Document(page_content='Using this, we can interact with the served chain as if it were running client-side.from langserve import RemoteRunnableremote_chain = RemoteRunnable(\"http://localhost:8000/agent/\")remote_chain.invoke({    \"input\": \"how can langsmith help with testing?\",    \"chat_history\": []  # Providing an empty list as this is the first call})To learn more about the many other features of LangServe head here.Next steps\\u200bWe\\'ve touched on how to build an application with LangChain, how to trace it with LangSmith, and how to serve it with LangServe.\\nThere are a lot more features in all three of these than we can cover here.\\nTo continue on your journey, we recommend you read the following (in order):All of these features are backed by LangChain Expression Language (LCEL) - a way to chain these components together. Check out that documentation to better understand how to create custom chains.Model IO covers more details of prompts, LLMs, and output parsers.Retrieval covers more details of everything related to retrievalAgents covers details of everything related to agentsExplore common end-to-end use cases and template applicationsRead up on LangSmith, the platform for debugging, testing, monitoring and moreLearn more about serving your applications with LangServePreviousInstallationNextSecuritySetupJupyter NotebookInstallationLangSmithBuilding with LangChainLLM ChainDiving DeeperRetrieval ChainDiving DeeperConversation Retrieval ChainAgentDiving DeeperServing with LangServeServerPlaygroundClientNext stepsCommunityDiscordTwitterGitHubPythonJS/TSMoreHomepageBlogYouTubeCopyright © 2024 LangChain, Inc.', metadata={'description': \"In this quickstart we'll show you how to:\", 'language': 'en', 'source': 'https://python.langchain.com/docs/get_started/quickstart', 'title': 'Quickstart | 🦜️🔗 Langchain'}),\n",
       " Document(page_content='For this example, we will give the agent access two tools:The retriever we just created. This will let it easily answer questions about LangSmithA search tool. This will let it easily answer questions that require up to date information.First, let\\'s set up a tool for the retriever we just created:from langchain.tools.retriever import create_retriever_toolretriever_tool = create_retriever_tool(    retriever,    \"langsmith_search\",    \"Search for information about LangSmith. For any questions about LangSmith, you must use this tool!\",)The search tool that we will use is Tavily. This will require an API key (they have generous free tier). After creating it on their platform, you need to set it as an environment variable:export TAVILY_API_KEY=...If you do not want to set up an API key, you can skip creating this tool.from langchain_community.tools.tavily_search import TavilySearchResultssearch = TavilySearchResults()We can now create a list of the tools we want to work with:tools = [retriever_tool, search]Now that we have the tools, we can create an agent to use them. We will go over this pretty quickly - for a deeper dive into what exactly is going on, check out the Agent\\'s Getting Started documentationInstall langchain hub firstpip install langchainhubNow we can use it to get a predefined promptfrom langchain_openai import ChatOpenAIfrom langchain import hubfrom langchain.agents import create_openai_functions_agentfrom langchain.agents import AgentExecutor# Get the prompt to use - you can modify this!prompt = hub.pull(\"hwchase17/openai-functions-agent\")llm = ChatOpenAI(model=\"gpt-3.5-turbo\", temperature=0)agent = create_openai_functions_agent(llm, tools, prompt)agent_executor = AgentExecutor(agent=agent, tools=tools, verbose=True)We can now invoke the agent and see how it responds! We can ask it questions about LangSmith:agent_executor.invoke({\"input\": \"how can langsmith help with testing?\"})We can ask it about the weather:agent_executor.invoke({\"input\": \"what is the weather in SF?\"})We can have conversations with it:chat_history = [HumanMessage(content=\"Can LangSmith help test my LLM applications?\"), AIMessage(content=\"Yes!\")]agent_executor.invoke({    \"chat_history\": chat_history,    \"input\": \"Tell me how\"})Diving Deeper\\u200bWe\\'ve now successfully set up a basic agent. We only touched on the basics of agents - for a deeper dive into everything mentioned here, see this section of documentation.Serving with LangServe\\u200bNow that we\\'ve built an application, we need to serve it. That\\'s where LangServe comes in.', metadata={'description': \"In this quickstart we'll show you how to:\", 'language': 'en', 'source': 'https://python.langchain.com/docs/get_started/quickstart', 'title': 'Quickstart | 🦜️🔗 Langchain'})]"
      ]
     },
     "execution_count": 84,
     "metadata": {},
     "output_type": "execute_result"
    }
   ],
   "source": [
    "chat_history = [HumanMessage(content=\"Can LangSmith help test my LLM applications?\"), AIMessage(content=\"Yes!\")]\n",
    "retriever_chain.invoke({\n",
    "    \"chat_history\": chat_history,\n",
    "    \"input\": \"Tell me how\"\n",
    "})"
   ]
  },
  {
   "cell_type": "code",
   "execution_count": 88,
   "metadata": {},
   "outputs": [],
   "source": [
    "chat_prompt = ChatPromptTemplate.from_messages(\n",
    "    [\n",
    "      (\"system\", \"Answer the user's questions based on the below context:\\n\\n{context}\"),\n",
    "      MessagesPlaceholder(variable_name=\"chat_history\"),\n",
    "      (\"user\", \"{input}\"),\n",
    "    ]\n",
    ")"
   ]
  },
  {
   "cell_type": "code",
   "execution_count": 92,
   "metadata": {},
   "outputs": [],
   "source": [
    "stuff_documents_chain = create_stuff_documents_chain(llm,chat_prompt)"
   ]
  },
  {
   "cell_type": "code",
   "execution_count": 93,
   "metadata": {},
   "outputs": [],
   "source": [
    "final_chain = create_retrieval_chain(retriever_chain, stuff_documents_chain)"
   ]
  },
  {
   "cell_type": "code",
   "execution_count": 96,
   "metadata": {},
   "outputs": [],
   "source": [
    "response = final_chain.invoke({\n",
    "    \"chat_history\": chat_history,\n",
    "    \"input\": \"Tell me how\"\n",
    "})"
   ]
  },
  {
   "cell_type": "code",
   "execution_count": 97,
   "metadata": {},
   "outputs": [
    {
     "data": {
      "text/plain": [
       "\"LangSmith is designed to help you inspect and understand what's going on inside your chain or agent when building applications with LangChain. As these applications get more complex with multiple steps and multiple invocations of LLM (Large Language Model) calls, LangSmith allows you to trace your application, enabling you to monitor its operations. This can be especially valuable for testing and debugging purposes. You can set your environment variables to start logging traces with LangSmith, giving you insights into the performance and functionality of your LLM applications.\""
      ]
     },
     "execution_count": 97,
     "metadata": {},
     "output_type": "execute_result"
    }
   ],
   "source": [
    "response['answer']"
   ]
  },
  {
   "cell_type": "code",
   "execution_count": null,
   "metadata": {},
   "outputs": [],
   "source": []
  }
 ],
 "metadata": {
  "kernelspec": {
   "display_name": "Python 3",
   "language": "python",
   "name": "python3"
  },
  "language_info": {
   "codemirror_mode": {
    "name": "ipython",
    "version": 3
   },
   "file_extension": ".py",
   "mimetype": "text/x-python",
   "name": "python",
   "nbconvert_exporter": "python",
   "pygments_lexer": "ipython3",
   "version": "3.11.3"
  }
 },
 "nbformat": 4,
 "nbformat_minor": 2
}
